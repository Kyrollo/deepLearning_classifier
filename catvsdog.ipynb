{
  "cells": [
    {
      "cell_type": "code",
      "execution_count": 1,
      "metadata": {
        "id": "mXn3nznGcDHT"
      },
      "outputs": [],
      "source": [
        "# @title Default title text\n",
        "import numpy as np\n",
        "import pandas as pd\n",
        "import matplotlib.pyplot as plt\n",
        "import seaborn as sns\n",
        "from sklearn.model_selection import train_test_split\n",
        "from sklearn.preprocessing import LabelEncoder\n",
        "from tensorflow.keras.layers import Dense\n",
        "import tensorflow.keras.layers as tfl\n",
        "from sklearn.preprocessing import StandardScaler\n",
        "import tensorflow as tf\n",
        "from tensorflow.keras import layers"
      ]
    },
    {
      "cell_type": "code",
      "execution_count": 2,
      "metadata": {
        "colab": {
          "base_uri": "https://localhost:8080/"
        },
        "id": "xE94SOUccHn7",
        "outputId": "a3f4d83f-b318-4f8e-d76b-d13b84eefe49"
      },
      "outputs": [
        {
          "name": "stdout",
          "output_type": "stream",
          "text": [
            "/content/drive/MyDrive/valid True\n",
            "/content/drive/MyDrive/valid/cats True\n",
            "/content/drive/MyDrive/valid/dogs True\n"
          ]
        }
      ],
      "source": [
        "import numpy as np\n",
        "import cv2\n",
        "import os\n",
        "import random\n",
        "import matplotlib.pyplot as plt\n",
        "import pickle\n",
        "\n",
        "DIRECTORY = '/content/drive/MyDrive/valid'\n",
        "print(DIRECTORY,os.path.exists(DIRECTORY))\n",
        "CATEGORY = ['cats', 'dogs']\n",
        "img_size = 100\n",
        "data = []\n",
        "\n",
        "for category in CATEGORY:\n",
        "    folder = os.path.join(DIRECTORY, category).replace('\\\\', '/')\n",
        "    label = CATEGORY.index(category)\n",
        "    print(folder,os.path.exists(folder))\n",
        "    for img in os.listdir(folder):\n",
        "        img_path = os.path.join(folder, img)\n",
        "        img_arr = cv2.imread(img_path)\n",
        "        img_arr = cv2.resize(img_arr, (img_size, img_size))\n",
        "        #plt.imshow(img_arr)\n",
        "        data.append([img_arr, label])\n",
        "        random.shuffle(data)\n",
        "        \n",
        "X=[]\n",
        "Y=[]\n",
        "for feature,label in data:\n",
        "  X.append(feature)\n",
        "  Y.append(label)"
      ]
    },
    {
      "cell_type": "code",
      "execution_count": 3,
      "metadata": {
        "colab": {
          "base_uri": "https://localhost:8080/"
        },
        "id": "Fz3gxo31cLTs",
        "outputId": "549b21e6-5477-46e9-c89b-5b210c50f032"
      },
      "outputs": [
        {
          "name": "stdout",
          "output_type": "stream",
          "text": [
            "(2000, 100, 100, 3)\n"
          ]
        }
      ],
      "source": [
        "X=np.array(X)\n",
        "Y=np.array(Y)\n",
        "X_train,X_test,Y_train,Y_test=train_test_split(X,Y,test_size=0.2,random_state=42)\n",
        "X_train_ANN = X_train.reshape(X_train.shape[0], -1)\n",
        "X_test_ANN = X_test.reshape(X_test.shape[0], -1)\n",
        "print(X.shape)"
      ]
    },
    {
      "cell_type": "code",
      "execution_count": 4,
      "metadata": {
        "id": "OyIBB4n7cN5l"
      },
      "outputs": [],
      "source": [
        "model = tf.keras.Sequential([\n",
        "    tfl.Dense(units=64, activation=\"relu\", input_shape=(30000,)),  # Adjust input shape\n",
        "    tfl.Dense(units=1, activation=\"sigmoid\")\n",
        "])\n",
        "optimizer = tf.keras.optimizers.Adam(learning_rate=0.001)\n",
        "\n",
        "loss_function = tf.keras.losses.BinaryCrossentropy()\n",
        "\n",
        "model.compile(optimizer=optimizer, loss=loss_function, metrics=['accuracy'])"
      ]
    },
    {
      "cell_type": "code",
      "execution_count": 5,
      "metadata": {
        "id": "T33SRkNldB3R"
      },
      "outputs": [],
      "source": [
        "model2 = tf.keras.Sequential([\n",
        "    tfl.Dense(units=256, activation=\"relu\", input_shape=(30000,)),\n",
        "    tfl.Dense(units=128, activation=\"relu\"),\n",
        "    tfl.Dense(units=64, activation=\"relu\"),\n",
        "    tfl.Dense(units=1, activation=\"sigmoid\")\n",
        "])\n",
        "optimizer2 = tf.keras.optimizers.Adam(learning_rate=0.1)\n",
        "\n",
        "loss_function2 = tf.keras.losses.BinaryCrossentropy()\n",
        "\n",
        "model2.compile(optimizer=optimizer2, loss=loss_function2, metrics=['accuracy'])\n"
      ]
    },
    {
      "cell_type": "code",
      "execution_count": 6,
      "metadata": {
        "id": "81tBg2nmuICD"
      },
      "outputs": [],
      "source": [
        "model4 = tf.keras.Sequential([\n",
        "    tfl.Dense(units=1, activation=\"sigmoid\", input_shape=(30000,)),\n",
        "])\n",
        "optimizer4 = tf.keras.optimizers.Adam(learning_rate=0.5)\n",
        "\n",
        "loss_function4 = tf.keras.losses.BinaryCrossentropy()\n",
        "\n",
        "model4.compile(optimizer=optimizer4, loss=loss_function4, metrics=['accuracy'])"
      ]
    },
    {
      "cell_type": "code",
      "execution_count": 7,
      "metadata": {
        "id": "weC51LUvb27t"
      },
      "outputs": [],
      "source": [
        "model3 = tf.keras.Sequential([\n",
        "    tfl.Dense(units=128, activation=\"relu\", input_shape=(30000,)),\n",
        "    tfl.Dense(units=64, activation=\"relu\"),\n",
        "    tfl.Dense(units=1, activation=\"sigmoid\")\n",
        "])\n",
        "optimizer3 = tf.keras.optimizers.Adam(learning_rate=0.001)\n",
        "\n",
        "loss_function3 = tf.keras.losses.BinaryCrossentropy()\n",
        "\n",
        "model3.compile(optimizer=optimizer3, loss=loss_function3, metrics=['accuracy'])"
      ]
    },
    {
      "cell_type": "code",
      "execution_count": 8,
      "metadata": {
        "id": "TA6IWEoKurTW"
      },
      "outputs": [],
      "source": [
        "\n",
        "\n",
        "# Define the CNN model\n",
        "model5 = tf.keras.Sequential([\n",
        "    layers.Conv2D(32, (3, 3), activation='relu', input_shape=(100, 100, 3)),\n",
        "    layers.MaxPooling2D((2, 2)),\n",
        "    layers.Conv2D(64, (3, 3), activation='relu'),\n",
        "    layers.MaxPooling2D((2, 2)),\n",
        "    layers.Conv2D(128, (3, 3), activation='relu'),\n",
        "    layers.MaxPooling2D((2, 2)),\n",
        "    layers.Flatten(),\n",
        "    layers.Dense(128, activation='relu'),\n",
        "    layers.Dropout(0.5),\n",
        "    layers.Dense(1, activation='sigmoid')\n",
        "])\n",
        "optimizer5 = tf.keras.optimizers.Adam(learning_rate=0.001)\n",
        "\n",
        "loss_function4 = tf.keras.losses.BinaryCrossentropy()\n",
        "\n",
        "# Compile the model\n",
        "model5.compile(optimizer=optimizer5,loss=loss_function4,metrics=['accuracy'])\n",
        "\n"
      ]
    },
    {
      "cell_type": "code",
      "execution_count": 14,
      "metadata": {
        "colab": {
          "base_uri": "https://localhost:8080/"
        },
        "id": "0tkUky-ofAQq",
        "outputId": "a25a3e66-92df-4df8-84b0-c84a23f6e774"
      },
      "outputs": [
        {
          "name": "stdout",
          "output_type": "stream",
          "text": [
            "Epoch 1/10\n",
            "40/40 [==============================] - 2s 44ms/step - loss: 0.6931 - accuracy: 0.5055 - val_loss: 0.6935 - val_accuracy: 0.4844\n",
            "Epoch 2/10\n",
            "40/40 [==============================] - 2s 54ms/step - loss: 0.6931 - accuracy: 0.5055 - val_loss: 0.6935 - val_accuracy: 0.4844\n",
            "Epoch 3/10\n",
            "40/40 [==============================] - 1s 35ms/step - loss: 0.6931 - accuracy: 0.5055 - val_loss: 0.6935 - val_accuracy: 0.4844\n",
            "Epoch 4/10\n",
            "40/40 [==============================] - 1s 28ms/step - loss: 0.6931 - accuracy: 0.5055 - val_loss: 0.6935 - val_accuracy: 0.4844\n",
            "Epoch 5/10\n",
            "40/40 [==============================] - 1s 27ms/step - loss: 0.6931 - accuracy: 0.5055 - val_loss: 0.6935 - val_accuracy: 0.4844\n",
            "Epoch 6/10\n",
            "40/40 [==============================] - 1s 29ms/step - loss: 0.6931 - accuracy: 0.5055 - val_loss: 0.6935 - val_accuracy: 0.4844\n",
            "Epoch 7/10\n",
            "40/40 [==============================] - 1s 28ms/step - loss: 0.6931 - accuracy: 0.5055 - val_loss: 0.6935 - val_accuracy: 0.4844\n",
            "Epoch 8/10\n",
            "40/40 [==============================] - 1s 28ms/step - loss: 0.6931 - accuracy: 0.5055 - val_loss: 0.6935 - val_accuracy: 0.4844\n",
            "Epoch 9/10\n",
            "40/40 [==============================] - 1s 28ms/step - loss: 0.6932 - accuracy: 0.5055 - val_loss: 0.6936 - val_accuracy: 0.4844\n",
            "Epoch 10/10\n",
            "40/40 [==============================] - 1s 30ms/step - loss: 0.6931 - accuracy: 0.5055 - val_loss: 0.6935 - val_accuracy: 0.4844\n",
            "<keras.src.callbacks.History object at 0x78d66598d720>\n",
            "[0.5054687261581421, 0.5054687261581421, 0.5054687261581421, 0.5054687261581421, 0.5054687261581421, 0.5054687261581421, 0.5054687261581421, 0.5054687261581421, 0.5054687261581421, 0.5054687261581421]\n",
            "Epoch 1/10\n",
            "40/40 [==============================] - 4s 107ms/step - loss: 0.6952 - accuracy: 0.5039 - val_loss: 0.6925 - val_accuracy: 0.5188\n",
            "Epoch 2/10\n",
            "40/40 [==============================] - 7s 188ms/step - loss: 0.6948 - accuracy: 0.4883 - val_loss: 0.6927 - val_accuracy: 0.5188\n",
            "Epoch 3/10\n",
            "40/40 [==============================] - 4s 99ms/step - loss: 0.6936 - accuracy: 0.5180 - val_loss: 0.7057 - val_accuracy: 0.4844\n",
            "Epoch 4/10\n",
            "40/40 [==============================] - 4s 102ms/step - loss: 0.6961 - accuracy: 0.4883 - val_loss: 0.6927 - val_accuracy: 0.5188\n",
            "Epoch 5/10\n",
            "40/40 [==============================] - 5s 136ms/step - loss: 0.6939 - accuracy: 0.4914 - val_loss: 0.6927 - val_accuracy: 0.5188\n",
            "Epoch 6/10\n",
            "40/40 [==============================] - 4s 103ms/step - loss: 0.6960 - accuracy: 0.4867 - val_loss: 0.6937 - val_accuracy: 0.4844\n",
            "Epoch 7/10\n",
            "40/40 [==============================] - 4s 98ms/step - loss: 0.6939 - accuracy: 0.4930 - val_loss: 0.6932 - val_accuracy: 0.4844\n",
            "Epoch 8/10\n",
            "40/40 [==============================] - 5s 127ms/step - loss: 0.6948 - accuracy: 0.4945 - val_loss: 0.6980 - val_accuracy: 0.4844\n",
            "Epoch 9/10\n",
            "40/40 [==============================] - 5s 114ms/step - loss: 0.6962 - accuracy: 0.4945 - val_loss: 0.6928 - val_accuracy: 0.5188\n",
            "Epoch 10/10\n",
            "40/40 [==============================] - 4s 101ms/step - loss: 0.6958 - accuracy: 0.4945 - val_loss: 0.6930 - val_accuracy: 0.5188\n",
            "<keras.src.callbacks.History object at 0x78d64f1038e0>\n",
            "[0.50390625, 0.48828125, 0.5179687738418579, 0.48828125, 0.49140626192092896, 0.4867187440395355, 0.49296873807907104, 0.4945312440395355, 0.4945312440395355, 0.4945312440395355]\n",
            "Epoch 1/10\n",
            "40/40 [==============================] - 2s 53ms/step - loss: 4.7190 - accuracy: 0.7133 - val_loss: 7.8911 - val_accuracy: 0.5688\n",
            "Epoch 2/10\n",
            "40/40 [==============================] - 2s 48ms/step - loss: 3.8173 - accuracy: 0.7563 - val_loss: 8.6139 - val_accuracy: 0.5469\n",
            "Epoch 3/10\n",
            "40/40 [==============================] - 3s 64ms/step - loss: 2.2292 - accuracy: 0.8102 - val_loss: 8.1493 - val_accuracy: 0.5437\n",
            "Epoch 4/10\n",
            "40/40 [==============================] - 3s 71ms/step - loss: 3.6176 - accuracy: 0.7492 - val_loss: 6.3581 - val_accuracy: 0.5750\n",
            "Epoch 5/10\n",
            "40/40 [==============================] - 2s 50ms/step - loss: 2.1118 - accuracy: 0.7742 - val_loss: 5.4659 - val_accuracy: 0.5562\n",
            "Epoch 6/10\n",
            "40/40 [==============================] - 2s 49ms/step - loss: 0.9484 - accuracy: 0.8445 - val_loss: 4.9301 - val_accuracy: 0.5469\n",
            "Epoch 7/10\n",
            "40/40 [==============================] - 3s 68ms/step - loss: 0.6922 - accuracy: 0.8789 - val_loss: 4.9582 - val_accuracy: 0.5312\n",
            "Epoch 8/10\n",
            "40/40 [==============================] - 3s 67ms/step - loss: 0.5878 - accuracy: 0.8867 - val_loss: 6.7894 - val_accuracy: 0.5562\n",
            "Epoch 9/10\n",
            "40/40 [==============================] - 2s 61ms/step - loss: 0.9194 - accuracy: 0.8375 - val_loss: 4.2345 - val_accuracy: 0.5562\n",
            "Epoch 10/10\n",
            "40/40 [==============================] - 3s 69ms/step - loss: 0.4699 - accuracy: 0.8859 - val_loss: 3.9005 - val_accuracy: 0.5813\n",
            "<keras.src.callbacks.History object at 0x78d64f0a4bb0>\n",
            "[0.7132812738418579, 0.7562500238418579, 0.8101562261581421, 0.749218761920929, 0.774218738079071, 0.844531238079071, 0.87890625, 0.88671875, 0.8374999761581421, 0.885937511920929]\n",
            "Epoch 1/10\n",
            "40/40 [==============================] - 0s 7ms/step - loss: 20826.3242 - accuracy: 0.7352 - val_loss: 68694.7266 - val_accuracy: 0.4969\n",
            "Epoch 2/10\n",
            "40/40 [==============================] - 0s 6ms/step - loss: 12260.7646 - accuracy: 0.7937 - val_loss: 37669.0117 - val_accuracy: 0.5250\n",
            "Epoch 3/10\n",
            "40/40 [==============================] - 0s 5ms/step - loss: 16515.6836 - accuracy: 0.7406 - val_loss: 51772.0273 - val_accuracy: 0.5188\n",
            "Epoch 4/10\n",
            "40/40 [==============================] - 0s 5ms/step - loss: 38705.6211 - accuracy: 0.6422 - val_loss: 178126.9531 - val_accuracy: 0.4844\n",
            "Epoch 5/10\n",
            "40/40 [==============================] - 0s 5ms/step - loss: 66137.9453 - accuracy: 0.6594 - val_loss: 45389.6484 - val_accuracy: 0.5656\n",
            "Epoch 6/10\n",
            "40/40 [==============================] - 0s 5ms/step - loss: 20931.5898 - accuracy: 0.7391 - val_loss: 58766.0195 - val_accuracy: 0.5188\n",
            "Epoch 7/10\n",
            "40/40 [==============================] - 0s 6ms/step - loss: 11143.7109 - accuracy: 0.8086 - val_loss: 30700.3965 - val_accuracy: 0.5719\n",
            "Epoch 8/10\n",
            "40/40 [==============================] - 0s 6ms/step - loss: 11803.3047 - accuracy: 0.7961 - val_loss: 41231.5000 - val_accuracy: 0.5531\n",
            "Epoch 9/10\n",
            "40/40 [==============================] - 0s 6ms/step - loss: 23410.1641 - accuracy: 0.7234 - val_loss: 48711.2930 - val_accuracy: 0.5281\n",
            "Epoch 10/10\n",
            "40/40 [==============================] - 0s 6ms/step - loss: 33046.1719 - accuracy: 0.6820 - val_loss: 63121.5117 - val_accuracy: 0.5219\n",
            "<keras.src.callbacks.History object at 0x78d665b42ec0>\n",
            "[0.735156238079071, 0.793749988079071, 0.7406250238418579, 0.6421874761581421, 0.659375011920929, 0.739062488079071, 0.80859375, 0.796093761920929, 0.723437488079071, 0.6820312738418579]\n",
            "Epoch 1/10\n",
            "40/40 [==============================] - 26s 659ms/step - loss: 0.1322 - accuracy: 0.9469 - val_loss: 1.9106 - val_accuracy: 0.5656\n",
            "Epoch 2/10\n",
            "40/40 [==============================] - 27s 668ms/step - loss: 0.1063 - accuracy: 0.9672 - val_loss: 1.7121 - val_accuracy: 0.5938\n",
            "Epoch 3/10\n",
            "40/40 [==============================] - 25s 639ms/step - loss: 0.1142 - accuracy: 0.9703 - val_loss: 1.6618 - val_accuracy: 0.5906\n",
            "Epoch 4/10\n",
            "40/40 [==============================] - 26s 650ms/step - loss: 0.0806 - accuracy: 0.9766 - val_loss: 1.7486 - val_accuracy: 0.5969\n",
            "Epoch 5/10\n",
            "40/40 [==============================] - 28s 703ms/step - loss: 0.0693 - accuracy: 0.9812 - val_loss: 2.1405 - val_accuracy: 0.5844\n",
            "Epoch 6/10\n",
            "40/40 [==============================] - 27s 683ms/step - loss: 0.0600 - accuracy: 0.9805 - val_loss: 2.4133 - val_accuracy: 0.6000\n",
            "Epoch 7/10\n",
            "40/40 [==============================] - 28s 708ms/step - loss: 0.0882 - accuracy: 0.9766 - val_loss: 1.9962 - val_accuracy: 0.6000\n",
            "Epoch 8/10\n",
            "40/40 [==============================] - 24s 606ms/step - loss: 0.0769 - accuracy: 0.9766 - val_loss: 1.8369 - val_accuracy: 0.6281\n",
            "Epoch 9/10\n",
            "40/40 [==============================] - 26s 653ms/step - loss: 0.0746 - accuracy: 0.9734 - val_loss: 1.9402 - val_accuracy: 0.6125\n",
            "Epoch 10/10\n",
            "40/40 [==============================] - 26s 660ms/step - loss: 0.0610 - accuracy: 0.9805 - val_loss: 2.2993 - val_accuracy: 0.6219\n",
            "[0.5054687261581421, 0.4945312440395355, 0.885937511920929, 0.6820312738418579, 0.98046875]\n",
            "the model that has max accuracy:  model5\n"
          ]
        }
      ],
      "source": [
        "#history = model.fit(X_train, y_train, epochs=epochs, batch_size=batch_size, validation_data=(X_val, y_val))\n",
        "#predictions = model.predict(X_test)\n",
        "hist = []\n",
        "models=[model, model2, model3,model4]\n",
        "for mod in models:\n",
        "    history = mod.fit(X_train_ANN, Y_train, epochs=10, batch_size=32, validation_split=0.2)\n",
        "    print(history)\n",
        "    hist.append( history.history['accuracy'][-1] )\n",
        "    print(history.history['accuracy'])\n",
        "\n",
        "history = model5.fit(X_train, Y_train, epochs=10, batch_size=32, validation_split=0.2)\n",
        "hist.append( history.history['accuracy'][-1] )\n",
        "models.append(model5)\n",
        "chosen_model_index = np.argmax(hist)\n",
        "chosen_model =models[chosen_model_index]\n",
        "\n",
        "print(hist)\n",
        "modelss=[\"model\", \"model2\", \"model3\",\"model4\",\"model5\"]\n",
        "print(\"the model that has max accuracy: \",modelss[chosen_model_index])\n"
      ]
    },
    {
      "cell_type": "code",
      "execution_count": 16,
      "metadata": {
        "colab": {
          "base_uri": "https://localhost:8080/"
        },
        "id": "xYalT2vNpWB0",
        "outputId": "4e317e29-dbf8-4686-bbc9-420ed2d0a797"
      },
      "outputs": [
        {
          "name": "stdout",
          "output_type": "stream",
          "text": [
            "CNN\n",
            "1/1 [==============================] - 0s 80ms/step\n",
            "Prediction: 1\n",
            "Actual Label: 1\n",
            "Comparison: True\n"
          ]
        }
      ],
      "source": [
        "\n",
        "def predict_model(X):\n",
        "    # Ensure X is in the correct shape\n",
        "    if chosen_model != model5:\n",
        "        X = X.reshape(1, -1)  # Assuming X is flattened, reshape it to match the expected input shape\n",
        "    else:\n",
        "      X=X.reshape(-1,100,100,3)\n",
        "    pred = chosen_model.predict(X)\n",
        "    predictions = [0 if p > 0.5 else 1 for p in pred]\n",
        "    return predictions\n",
        "\n",
        "if chosen_model != model5:\n",
        "\n",
        "    X_test = X_test_ANN\n",
        "    print(\"ANN\")\n",
        "else:\n",
        "    print(\"CNN\")\n",
        "predictions = predict_model(X_test[0])\n",
        "print(\"Prediction:\", predictions[0])\n",
        "print(\"Actual Label:\", Y_test[0])\n",
        "print(\"Comparison:\", predictions[0] == Y_test[0])\n",
        "\n"
      ]
    },
    {
      "cell_type": "code",
      "execution_count": null,
      "metadata": {
        "id": "IBZFpbkSmYRu"
      },
      "outputs": [],
      "source": []
    }
  ],
  "metadata": {
    "colab": {
      "provenance": []
    },
    "kernelspec": {
      "display_name": "Python 3",
      "name": "python3"
    },
    "language_info": {
      "name": "python"
    }
  },
  "nbformat": 4,
  "nbformat_minor": 0
}
